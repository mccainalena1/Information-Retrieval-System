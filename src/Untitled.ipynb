{
 "cells": [
  {
   "cell_type": "code",
   "execution_count": 1,
   "id": "d0eb19a3",
   "metadata": {},
   "outputs": [
    {
     "ename": "ModuleNotFoundError",
     "evalue": "No module named 'matplotlib'",
     "output_type": "error",
     "traceback": [
      "\u001b[1;31m---------------------------------------------------------------------------\u001b[0m",
      "\u001b[1;31mModuleNotFoundError\u001b[0m                       Traceback (most recent call last)",
      "Cell \u001b[1;32mIn[1], line 7\u001b[0m\n\u001b[0;32m      5\u001b[0m \u001b[38;5;28;01mimport\u001b[39;00m \u001b[38;5;21;01msklearn\u001b[39;00m\u001b[38;5;21;01m.\u001b[39;00m\u001b[38;5;21;01mmetrics\u001b[39;00m\n\u001b[0;32m      6\u001b[0m \u001b[38;5;28;01mimport\u001b[39;00m  \u001b[38;5;21;01mnumpy\u001b[39;00m \u001b[38;5;28;01mas\u001b[39;00m \u001b[38;5;21;01mnp\u001b[39;00m\n\u001b[1;32m----> 7\u001b[0m \u001b[38;5;28;01mimport\u001b[39;00m \u001b[38;5;21;01mmatplotlib\u001b[39;00m\u001b[38;5;21;01m.\u001b[39;00m\u001b[38;5;21;01mpyplot\u001b[39;00m \u001b[38;5;28;01mas\u001b[39;00m \u001b[38;5;21;01mplt\u001b[39;00m\n",
      "\u001b[1;31mModuleNotFoundError\u001b[0m: No module named 'matplotlib'"
     ]
    }
   ],
   "source": [
    "import re\n",
    "from sklearn.feature_extraction.text import TfidfVectorizer\n",
    "from sklearn.feature_extraction.text import CountVectorizer\n",
    "from sklearn.feature_extraction import text\n",
    "import sklearn.metrics\n",
    "import  numpy as np\n",
    "import matplotlib.pyplot as plt"
   ]
  },
  {
   "cell_type": "code",
   "execution_count": null,
   "id": "0490b268",
   "metadata": {},
   "outputs": [],
   "source": [
    "File_object = open(r\"cran.all\", \"r\")"
   ]
  },
  {
   "cell_type": "code",
   "execution_count": null,
   "id": "403e6ed7",
   "metadata": {},
   "outputs": [],
   "source": [
    "abstracts = File_object.read().split(\".I \")[1:]"
   ]
  },
  {
   "cell_type": "code",
   "execution_count": null,
   "id": "728feb2e",
   "metadata": {},
   "outputs": [],
   "source": [
    "abstracts"
   ]
  },
  {
   "cell_type": "code",
   "execution_count": null,
   "id": "9b7ff811",
   "metadata": {},
   "outputs": [],
   "source": [
    "raw_corpus = [\" \".join(abstract.splitlines()) for abstract in abstracts]"
   ]
  },
  {
   "cell_type": "code",
   "execution_count": null,
   "id": "b278afd9",
   "metadata": {},
   "outputs": [],
   "source": [
    "tokenized_corpus = [re.sub(' +', ' ', re.sub(r'[^\\w\\s]', ' ', doc[doc.find('.W') + 2:doc.find('Etc')]))[:-1] for doc in raw_corpus]"
   ]
  },
  {
   "cell_type": "code",
   "execution_count": null,
   "id": "acbba66a",
   "metadata": {},
   "outputs": [],
   "source": [
    "tokenized_corpus"
   ]
  },
  {
   "cell_type": "code",
   "execution_count": null,
   "id": "adca4e18",
   "metadata": {},
   "outputs": [],
   "source": [
    "File_object2 = open(r\"query.text\", \"r\")"
   ]
  },
  {
   "cell_type": "code",
   "execution_count": null,
   "id": "0111b68c",
   "metadata": {},
   "outputs": [],
   "source": [
    "queries = File_object2.read().split(\".I \")[1:]"
   ]
  },
  {
   "cell_type": "code",
   "execution_count": null,
   "id": "90f3e3d4",
   "metadata": {},
   "outputs": [],
   "source": [
    "queries"
   ]
  },
  {
   "cell_type": "code",
   "execution_count": null,
   "id": "f957a1dd",
   "metadata": {},
   "outputs": [],
   "source": [
    "raw_queries = [\" \".join(query.splitlines()) for query in queries]"
   ]
  },
  {
   "cell_type": "code",
   "execution_count": null,
   "id": "426e049c",
   "metadata": {},
   "outputs": [],
   "source": [
    "tokenized_queries =  [re.sub(' +', ' ', re.sub(r'[^\\w\\s]', ' ', query[query.find('.W') + 2:query.find('Etc')]))[:-1] for query in raw_queries]"
   ]
  },
  {
   "cell_type": "code",
   "execution_count": null,
   "id": "0c54788f",
   "metadata": {},
   "outputs": [],
   "source": [
    "tokenized_queries"
   ]
  },
  {
   "cell_type": "code",
   "execution_count": null,
   "id": "2df0f2dd",
   "metadata": {},
   "outputs": [],
   "source": [
    "tdif_vectorizer = TfidfVectorizer(lowercase=True, stop_words=text.ENGLISH_STOP_WORDS)\n",
    "corpus_tdif = tdif_vectorizer.fit_transform(tokenized_corpus)\n",
    "query_tdif = tdif_vectorizer.transform(tokenized_queries)\n",
    "print(corpus_tdif.toarray().shape)\n",
    "print(query_tdif.toarray().shape)"
   ]
  },
  {
   "cell_type": "code",
   "execution_count": null,
   "id": "65a946d2",
   "metadata": {},
   "outputs": [],
   "source": [
    "bi_vectorizer = CountVectorizer(lowercase=True, stop_words=text.ENGLISH_STOP_WORDS, binary=True)\n",
    "corpus_bi = bi_vectorizer.fit_transform(tokenized_corpus)\n",
    "query_bi = bi_vectorizer.transform(tokenized_queries)\n",
    "print(corpus_bi.toarray().shape)\n",
    "print(query_bi.toarray().shape)"
   ]
  },
  {
   "cell_type": "code",
   "execution_count": null,
   "id": "e489af17",
   "metadata": {},
   "outputs": [],
   "source": [
    "def getTopEuclidean(corpus, queries):\n",
    "    euclideanMatrix = sklearn.metrics.pairwise_distances(X=queries, Y=corpus, metric='euclidean')\n",
    "    minValues = []\n",
    "    for query in euclideanMatrix:\n",
    "        minValues.append(np.argsort(query)[:10])\n",
    "    return np.array(minValues)"
   ]
  },
  {
   "cell_type": "code",
   "execution_count": null,
   "id": "758f94f8",
   "metadata": {},
   "outputs": [],
   "source": [
    "def getTopCosineSimilarity(corpus, queries):\n",
    "    cosineSimilarityMatrix = sklearn.metrics.pairwise.cosine_similarity(X=queries, Y=corpus, dense_output=True)\n",
    "    minValues = []\n",
    "    for query in cosineSimilarityMatrix:\n",
    "        minValues.append(np.argsort(query)[:10])\n",
    "    return np.array(minValues)"
   ]
  },
  {
   "cell_type": "code",
   "execution_count": null,
   "id": "be912817",
   "metadata": {},
   "outputs": [],
   "source": [
    "eucclidian_tdif = getTopEuclidean(corpus_tdif.toarray(), query_tdif.toarray())"
   ]
  },
  {
   "cell_type": "code",
   "execution_count": null,
   "id": "989f6855",
   "metadata": {},
   "outputs": [],
   "source": [
    "cosineSimilarity_tdif = getTopCosineSimilarity(corpus_tdif.toarray(), query_tdif.toarray())"
   ]
  },
  {
   "cell_type": "code",
   "execution_count": null,
   "id": "2ad6efb0",
   "metadata": {},
   "outputs": [],
   "source": [
    "relDocs = np.loadtxt(\"qrels.text\")\n",
    "relDocs = np.delete(relDocs, 2, 1)\n",
    "relDocs = np.delete(relDocs, 2, 1)\n",
    "relDocs[:29]"
   ]
  },
  {
   "cell_type": "code",
   "execution_count": null,
   "id": "db17e3c9",
   "metadata": {},
   "outputs": [],
   "source": [
    "relDocsMatrix = []\n",
    "index = 0\n",
    "relCount = relDocs.shape[0]\n",
    "for query in range(1, 226):\n",
    "    queryDocs = []\n",
    "    while index < relCount and relDocs[index][0] == query:\n",
    "        queryDocs.append(relDocs[index][1])\n",
    "        index += 1\n",
    "    relDocsMatrix.append(queryDocs)  \n",
    "relDocsMatrix[0]"
   ]
  },
  {
   "cell_type": "code",
   "execution_count": null,
   "id": "60a1ee1c",
   "metadata": {},
   "outputs": [],
   "source": [
    "def precision(actual, relavent):\n",
    "    return np.in1d(actual, relevant).sum() / actual.shape[0]"
   ]
  },
  {
   "cell_type": "code",
   "execution_count": null,
   "id": "ea5cd12c",
   "metadata": {},
   "outputs": [],
   "source": [
    "def recall(actual, relevant):\n",
    "    return np.in1d(actual, relevant).sum() / relevant.shape[0]"
   ]
  },
  {
   "cell_type": "code",
   "execution_count": null,
   "id": "fc1e561c",
   "metadata": {},
   "outputs": [],
   "source": [
    "def fscore(precision, recall):\n",
    "    (precision + recall) / 2"
   ]
  },
  {
   "cell_type": "code",
   "execution_count": 3,
   "id": "7ad4ce17",
   "metadata": {},
   "outputs": [],
   "source": [
    "def calcScores(actualMat, relevantMat):\n",
    "    pData = []\n",
    "    rData = []\n",
    "    fData = []\n",
    "    for query in range(225):\n",
    "        p = precision(actualMat[query], np.array(relevantMat[query]))\n",
    "        r = recall(actualMat[query], np.array(relevantMat[query]))\n",
    "        f = fscore(p, r)\n",
    "        pData.append(p)\n",
    "        rData.append(r)\n",
    "        fData.append(f)\n",
    "    return pData, rData, fData"
   ]
  },
  {
   "cell_type": "code",
   "execution_count": 2,
   "id": "71892ca1",
   "metadata": {},
   "outputs": [],
   "source": [
    "def makeBarGraph(data, title, legend, yLabel):\n",
    "    plt.bar([i for i in range(1, 226)], data, color='red')\n",
    "    plt.xticks(ticks=[0, 50, 100, 150, 200], labels=[\"0\", \"50\", \"100\", \"150\", \"200\"])\n",
    "    plt.yticks(ticks=[0.0, 0.2, 0.4, 0.6, 0.8], labels=[\"0.0\", \"0.2\", \"0.4\", \"0.6\", \"0.8\"])\n",
    "    plt.xlabel(\"Query Index\")\n",
    "    plt.ylabel(yLabel)\n",
    "    plt.legend([legend], loc='upper right')\n",
    "    plt.title(title)\n",
    "    plt.show()"
   ]
  },
  {
   "cell_type": "code",
   "execution_count": null,
   "id": "d3729aa0",
   "metadata": {},
   "outputs": [],
   "source": []
  }
 ],
 "metadata": {
  "kernelspec": {
   "display_name": "Python 3 (ipykernel)",
   "language": "python",
   "name": "python3"
  },
  "language_info": {
   "codemirror_mode": {
    "name": "ipython",
    "version": 3
   },
   "file_extension": ".py",
   "mimetype": "text/x-python",
   "name": "python",
   "nbconvert_exporter": "python",
   "pygments_lexer": "ipython3",
   "version": "3.9.13"
  }
 },
 "nbformat": 4,
 "nbformat_minor": 5
}
